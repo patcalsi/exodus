{
 "cells": [
  {
   "cell_type": "code",
   "execution_count": 6,
   "metadata": {},
   "outputs": [],
   "source": [
    "import os"
   ]
  },
  {
   "cell_type": "code",
   "execution_count": 3,
   "metadata": {},
   "outputs": [],
   "source": [
    "os.environ['PATH']"
   ]
  },
  {
   "cell_type": "code",
   "execution_count": 8,
   "metadata": {},
   "outputs": [],
   "source": [
    "from selenium import webdriver\n",
    "import re\n",
    "import pandas as pd\n",
    "import numpy as np"
   ]
  },
  {
   "cell_type": "code",
   "execution_count": 9,
   "metadata": {},
   "outputs": [],
   "source": [
    "from selenium.webdriver.common.keys import Keys\n",
    "from selenium.webdriver.common.by import By\n",
    "from selenium.webdriver.support.ui import WebDriverWait\n",
    "from selenium.webdriver.support import expected_conditions as EC\n",
    "import time\n",
    "import requests"
   ]
  },
  {
   "cell_type": "code",
   "execution_count": null,
   "metadata": {},
   "outputs": [],
   "source": [
    "### ejemplo"
   ]
  },
  {
   "cell_type": "code",
   "execution_count": 166,
   "metadata": {},
   "outputs": [
    {
     "name": "stdout",
     "output_type": "stream",
     "text": [
      "Castellón\n",
      "Valencia\n",
      "Alicante\n",
      "Enlace externo, se abre en ventana nueva\n",
      "Este sitio web cumple con el nivel de accesibilidad doble A según las pautas WCAG 1.0\n",
      "Enlace externo, se abre en ventana nueva\n",
      "Enlace externo, se abre en ventana nueva\n",
      "Enlace externo, se abre en ventana nueva\n"
     ]
    }
   ],
   "source": [
    "options = webdriver.ChromeOptions() \n",
    "options.add_experimental_option(\"prefs\", {\n",
    "  \"download.default_directory\": \"/home/patcalsi/projects/Exodus_urbano/data/patri/colegios\",\n",
    "  \"download.prompt_for_download\": False,\n",
    "  \"download.directory_upgrade\": True,\n",
    "  \"safebrowsing.enabled\": True\n",
    "})\n",
    "#options.add_argument(\"download.default_directory=/home/patcalsi/projects/Exodus_urbano/data/patri/colegios\")\n",
    "\n",
    "browser = webdriver.Chrome(executable_path='/usr/local/bin/chromedriver', options=options)\n",
    "browser.get('https://www.educacion.gob.es/centros/')\n",
    "\n",
    "origin = browser.find_element_by_xpath('//*[@title=\"Valencia\"]').click()\n",
    "prov = browser.find_elements_by_xpath('//*[@title]')\n",
    "for i in prov:\n",
    "    p = i.get_attribute(\"title\")\n",
    "    print(p)\n",
    "\n",
    "browser.close()\n"
   ]
  },
  {
   "cell_type": "code",
   "execution_count": 11,
   "metadata": {},
   "outputs": [
    {
     "data": {
      "text/plain": [
       "'/home/patcalsi/projects/Exodus_urbano'"
      ]
     },
     "execution_count": 11,
     "metadata": {},
     "output_type": "execute_result"
    }
   ],
   "source": [
    "os.getcwd()"
   ]
  },
  {
   "cell_type": "code",
   "execution_count": 152,
   "metadata": {},
   "outputs": [],
   "source": [
    "maestro_municipios = pd.read_csv(\"data/Guille/Mastersheet.csv\")"
   ]
  },
  {
   "cell_type": "code",
   "execution_count": 153,
   "metadata": {},
   "outputs": [
    {
     "data": {
      "text/html": [
       "<div>\n",
       "<style scoped>\n",
       "    .dataframe tbody tr th:only-of-type {\n",
       "        vertical-align: middle;\n",
       "    }\n",
       "\n",
       "    .dataframe tbody tr th {\n",
       "        vertical-align: top;\n",
       "    }\n",
       "\n",
       "    .dataframe thead th {\n",
       "        text-align: right;\n",
       "    }\n",
       "</style>\n",
       "<table border=\"1\" class=\"dataframe\">\n",
       "  <thead>\n",
       "    <tr style=\"text-align: right;\">\n",
       "      <th></th>\n",
       "      <th>Postal code</th>\n",
       "      <th>Cities</th>\n",
       "      <th>Province</th>\n",
       "      <th>Autonomous Community</th>\n",
       "    </tr>\n",
       "  </thead>\n",
       "  <tbody>\n",
       "    <tr>\n",
       "      <th>0</th>\n",
       "      <td>1001</td>\n",
       "      <td>Vitoria-Gasteiz</td>\n",
       "      <td>Áraba/Álava</td>\n",
       "      <td>País Vasco</td>\n",
       "    </tr>\n",
       "    <tr>\n",
       "      <th>1</th>\n",
       "      <td>1002</td>\n",
       "      <td>Vitoria-Gasteiz</td>\n",
       "      <td>Áraba/Álava</td>\n",
       "      <td>País Vasco</td>\n",
       "    </tr>\n",
       "    <tr>\n",
       "      <th>2</th>\n",
       "      <td>1003</td>\n",
       "      <td>Vitoria-Gasteiz</td>\n",
       "      <td>Áraba/Álava</td>\n",
       "      <td>País Vasco</td>\n",
       "    </tr>\n",
       "    <tr>\n",
       "      <th>3</th>\n",
       "      <td>1004</td>\n",
       "      <td>Vitoria-Gasteiz</td>\n",
       "      <td>Áraba/Álava</td>\n",
       "      <td>País Vasco</td>\n",
       "    </tr>\n",
       "    <tr>\n",
       "      <th>4</th>\n",
       "      <td>1005</td>\n",
       "      <td>Vitoria-Gasteiz</td>\n",
       "      <td>Áraba/Álava</td>\n",
       "      <td>País Vasco</td>\n",
       "    </tr>\n",
       "  </tbody>\n",
       "</table>\n",
       "</div>"
      ],
      "text/plain": [
       "   Postal code           Cities     Province Autonomous Community\n",
       "0         1001  Vitoria-Gasteiz  Áraba/Álava           País Vasco\n",
       "1         1002  Vitoria-Gasteiz  Áraba/Álava           País Vasco\n",
       "2         1003  Vitoria-Gasteiz  Áraba/Álava           País Vasco\n",
       "3         1004  Vitoria-Gasteiz  Áraba/Álava           País Vasco\n",
       "4         1005  Vitoria-Gasteiz  Áraba/Álava           País Vasco"
      ]
     },
     "execution_count": 153,
     "metadata": {},
     "output_type": "execute_result"
    }
   ],
   "source": [
    "maestro_municipios.head()"
   ]
  },
  {
   "cell_type": "code",
   "execution_count": 154,
   "metadata": {},
   "outputs": [],
   "source": [
    "maestro = maestro_municipios[['Province', 'Autonomous Community']].drop_duplicates(subset=['Province', 'Autonomous Community'])"
   ]
  },
  {
   "cell_type": "code",
   "execution_count": 155,
   "metadata": {},
   "outputs": [],
   "source": [
    "maestro = maestro.sort_values(['Autonomous Community', 'Province'], ascending=[1, 1])"
   ]
  },
  {
   "cell_type": "code",
   "execution_count": 156,
   "metadata": {},
   "outputs": [],
   "source": [
    "maestro = maestro[['Autonomous Community', 'Province']]\n",
    "maestro.columns = ['ccaa', 'provincia']"
   ]
  },
  {
   "cell_type": "code",
   "execution_count": 157,
   "metadata": {},
   "outputs": [],
   "source": [
    "maestro = maestro.replace(\"País Vasco\", \"Euskadi\")\n",
    "maestro = maestro.replace(\"Comunidad de Madrid\", \"Madrid\")\n",
    "maestro = maestro.replace(\"Islas Canarias\", \"Canarias\")\n",
    "maestro = maestro.replace(\"Comunidad Valenciana\", \"Valencia\")\n",
    "maestro = maestro.replace(\"Comunidad Foral de Navarra\", \"Navarra\")\n",
    "maestro = maestro.replace(\"Islas Baleares\", \"Illes Balears\")\n",
    "maestro = maestro.replace(\"Castilla La Mancha\", \"Castilla-La Mancha\")\n",
    "maestro = maestro.replace(\"Región de Murcia\", \"Murcia\")\n",
    "maestro = maestro.replace(\"Principado de Asturias\", \"Asturias\")\n",
    "maestro = maestro.replace(\"Ávila\", \"Avila\")\n",
    "maestro = maestro.replace(\"Catalunya\", \"Cataluña\")"
   ]
  },
  {
   "cell_type": "code",
   "execution_count": 158,
   "metadata": {
    "scrolled": true
   },
   "outputs": [],
   "source": [
    "df_canarias = pd.DataFrame([[\"Canarias\", 'La Palma'], \n",
    "                            [\"Canarias\", 'El Hierro'],\n",
    "                           [\"Canarias\", 'La Gomera'],\n",
    "                           [\"Canarias\", 'Tenerife'],\n",
    "                           [\"Canarias\", 'Gran Canaria'],\n",
    "                           [\"Canarias\", 'Fuerteventura']],\n",
    "                            columns=['ccaa', 'provincia'])\n",
    "\n",
    "maestro = maestro.append(df_canarias)"
   ]
  },
  {
   "cell_type": "code",
   "execution_count": 159,
   "metadata": {},
   "outputs": [],
   "source": [
    "maestro = maestro.reset_index()"
   ]
  },
  {
   "cell_type": "code",
   "execution_count": 162,
   "metadata": {},
   "outputs": [],
   "source": [
    "maestro.drop(maestro.index[32], inplace=True)"
   ]
  },
  {
   "cell_type": "code",
   "execution_count": 2,
   "metadata": {},
   "outputs": [],
   "source": [
    "maestro = maestro[['ccaa', 'provincia']]"
   ]
  },
  {
   "cell_type": "code",
   "execution_count": 184,
   "metadata": {},
   "outputs": [],
   "source": [
    "maestro2 = maestro.iloc[47:, :]"
   ]
  },
  {
   "cell_type": "code",
   "execution_count": 185,
   "metadata": {
    "scrolled": true
   },
   "outputs": [
    {
     "data": {
      "text/html": [
       "<div>\n",
       "<style scoped>\n",
       "    .dataframe tbody tr th:only-of-type {\n",
       "        vertical-align: middle;\n",
       "    }\n",
       "\n",
       "    .dataframe tbody tr th {\n",
       "        vertical-align: top;\n",
       "    }\n",
       "\n",
       "    .dataframe thead th {\n",
       "        text-align: right;\n",
       "    }\n",
       "</style>\n",
       "<table border=\"1\" class=\"dataframe\">\n",
       "  <thead>\n",
       "    <tr style=\"text-align: right;\">\n",
       "      <th></th>\n",
       "      <th>ccaa</th>\n",
       "      <th>provincia</th>\n",
       "    </tr>\n",
       "  </thead>\n",
       "  <tbody>\n",
       "    <tr>\n",
       "      <th>50</th>\n",
       "      <td>Asturias</td>\n",
       "      <td>Asturias</td>\n",
       "    </tr>\n",
       "    <tr>\n",
       "      <th>51</th>\n",
       "      <td>Murcia</td>\n",
       "      <td>Murcia</td>\n",
       "    </tr>\n",
       "    <tr>\n",
       "      <th>52</th>\n",
       "      <td>Canarias</td>\n",
       "      <td>La Palma</td>\n",
       "    </tr>\n",
       "    <tr>\n",
       "      <th>53</th>\n",
       "      <td>Canarias</td>\n",
       "      <td>El Hierro</td>\n",
       "    </tr>\n",
       "    <tr>\n",
       "      <th>54</th>\n",
       "      <td>Canarias</td>\n",
       "      <td>La Gomera</td>\n",
       "    </tr>\n",
       "    <tr>\n",
       "      <th>55</th>\n",
       "      <td>Canarias</td>\n",
       "      <td>Tenerife</td>\n",
       "    </tr>\n",
       "    <tr>\n",
       "      <th>56</th>\n",
       "      <td>Canarias</td>\n",
       "      <td>Gran Canaria</td>\n",
       "    </tr>\n",
       "    <tr>\n",
       "      <th>57</th>\n",
       "      <td>Canarias</td>\n",
       "      <td>Fuerteventura</td>\n",
       "    </tr>\n",
       "  </tbody>\n",
       "</table>\n",
       "</div>"
      ],
      "text/plain": [
       "        ccaa      provincia\n",
       "50  Asturias       Asturias\n",
       "51    Murcia         Murcia\n",
       "52  Canarias       La Palma\n",
       "53  Canarias      El Hierro\n",
       "54  Canarias      La Gomera\n",
       "55  Canarias       Tenerife\n",
       "56  Canarias   Gran Canaria\n",
       "57  Canarias  Fuerteventura"
      ]
     },
     "execution_count": 185,
     "metadata": {},
     "output_type": "execute_result"
    }
   ],
   "source": [
    "maestro2.head(40)"
   ]
  },
  {
   "cell_type": "code",
   "execution_count": 175,
   "metadata": {},
   "outputs": [],
   "source": [
    "maestro2 = maestro2.replace(\"Cáceres\", \"Caceres\")"
   ]
  },
  {
   "cell_type": "code",
   "execution_count": null,
   "metadata": {},
   "outputs": [],
   "source": [
    "options = webdriver.ChromeOptions() \n",
    "options.add_experimental_option(\"prefs\", {\n",
    "  \"download.default_directory\": \"/home/patcalsi/projects/Exodus_urbano/data/patri/colegios\",\n",
    "  \"download.prompt_for_download\": False,\n",
    "  \"download.directory_upgrade\": True,\n",
    "  \"safebrowsing.enabled\": True\n",
    "})\n",
    "#options.add_argument(\"download.default_directory=/home/patcalsi/projects/Exodus_urbano/data/patri/colegios\")\n",
    "\n",
    "browser = webdriver.Chrome(executable_path='/usr/local/bin/chromedriver', options=options)\n",
    "\n",
    "for idx, row in maestro2.iterrows():\n",
    "    print (row[['ccaa','provincia']])\n",
    "    browser.get('https://www.educacion.gob.es/centros/')\n",
    "    if row['ccaa'] == row['provincia']:\n",
    "        browser.find_element_by_xpath('//*[@title=\"'+row.ccaa+'\"]').click()\n",
    "        browser.find_element_by_xpath('//*[@id=\"idGhost\"]').click()\n",
    "        if row['ccaa'] in ['Madrid']:\n",
    "            browser.find_element_by_xpath('//*[@title=\"Buscar\"]').click()\n",
    "    else:\n",
    "        browser.find_element_by_xpath('//*[@title=\"'+row.ccaa+'\"]').click()\n",
    "        browser.find_element_by_xpath('//*[@title=\"'+row.provincia+'\"]').click()\n",
    "        browser.find_element_by_xpath('//*[@id=\"idGhost\"]').click()\n",
    "        if row['provincia'] in ['Málaga', 'Sevilla', 'Barcelona','Valencia', 'Alicante']:\n",
    "            browser.find_element_by_xpath('//*[@title=\"Buscar\"]').click()\n",
    "    \n",
    "    browser.find_element_by_xpath('//*[@id=\"idGhostExcel\"]').click()\n",
    "\n",
    "browser.close()\n"
   ]
  }
 ],
 "metadata": {
  "kernelspec": {
   "display_name": "Python 3",
   "language": "python",
   "name": "python3"
  },
  "language_info": {
   "codemirror_mode": {
    "name": "ipython",
    "version": 3
   },
   "file_extension": ".py",
   "mimetype": "text/x-python",
   "name": "python",
   "nbconvert_exporter": "python",
   "pygments_lexer": "ipython3",
   "version": "3.8.2"
  }
 },
 "nbformat": 4,
 "nbformat_minor": 4
}
